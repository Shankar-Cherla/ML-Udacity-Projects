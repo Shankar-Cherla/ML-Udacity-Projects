{
  "nbformat": 4,
  "nbformat_minor": 0,
  "metadata": {
    "colab": {
      "name": "FacialLandmarks.ipynb",
      "provenance": [],
      "collapsed_sections": [],
      "toc_visible": true
    },
    "kernelspec": {
      "name": "python3",
      "display_name": "Python 3"
    },
    "accelerator": "GPU"
  },
  "cells": [
    {
      "cell_type": "code",
      "metadata": {
        "id": "e5KmD-91AAam",
        "colab_type": "code",
        "outputId": "231dbdbe-6e61-41b4-ff07-1133a7746ba9",
        "colab": {
          "base_uri": "https://localhost:8080/",
          "height": 202
        }
      },
      "source": [
        "!pip install kaggle"
      ],
      "execution_count": 0,
      "outputs": [
        {
          "output_type": "stream",
          "text": [
            "Requirement already satisfied: kaggle in /usr/local/lib/python3.6/dist-packages (1.5.6)\n",
            "Requirement already satisfied: urllib3<1.25,>=1.21.1 in /usr/local/lib/python3.6/dist-packages (from kaggle) (1.24.3)\n",
            "Requirement already satisfied: six>=1.10 in /usr/local/lib/python3.6/dist-packages (from kaggle) (1.12.0)\n",
            "Requirement already satisfied: requests in /usr/local/lib/python3.6/dist-packages (from kaggle) (2.21.0)\n",
            "Requirement already satisfied: certifi in /usr/local/lib/python3.6/dist-packages (from kaggle) (2019.11.28)\n",
            "Requirement already satisfied: python-dateutil in /usr/local/lib/python3.6/dist-packages (from kaggle) (2.6.1)\n",
            "Requirement already satisfied: tqdm in /usr/local/lib/python3.6/dist-packages (from kaggle) (4.28.1)\n",
            "Requirement already satisfied: python-slugify in /usr/local/lib/python3.6/dist-packages (from kaggle) (4.0.0)\n",
            "Requirement already satisfied: chardet<3.1.0,>=3.0.2 in /usr/local/lib/python3.6/dist-packages (from requests->kaggle) (3.0.4)\n",
            "Requirement already satisfied: idna<2.9,>=2.5 in /usr/local/lib/python3.6/dist-packages (from requests->kaggle) (2.8)\n",
            "Requirement already satisfied: text-unidecode>=1.3 in /usr/local/lib/python3.6/dist-packages (from python-slugify->kaggle) (1.3)\n"
          ],
          "name": "stdout"
        }
      ]
    },
    {
      "cell_type": "code",
      "metadata": {
        "id": "D9dj4wwrAXZJ",
        "colab_type": "code",
        "outputId": "cc9f0e68-53c3-4667-fb8a-806a0ad80968",
        "colab": {
          "resources": {
            "http://localhost:8080/nbextensions/google.colab/files.js": {
              "data": "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",
              "ok": true,
              "headers": [
                [
                  "content-type",
                  "application/javascript"
                ]
              ],
              "status": 200,
              "status_text": ""
            }
          },
          "base_uri": "https://localhost:8080/",
          "height": 74
        }
      },
      "source": [
        "from google.colab import files\n",
        "uploaded = files.upload()"
      ],
      "execution_count": 0,
      "outputs": [
        {
          "output_type": "display_data",
          "data": {
            "text/html": [
              "\n",
              "     <input type=\"file\" id=\"files-913c25d2-9334-45d5-bc94-836316408413\" name=\"files[]\" multiple disabled />\n",
              "     <output id=\"result-913c25d2-9334-45d5-bc94-836316408413\">\n",
              "      Upload widget is only available when the cell has been executed in the\n",
              "      current browser session. Please rerun this cell to enable.\n",
              "      </output>\n",
              "      <script src=\"/nbextensions/google.colab/files.js\"></script> "
            ],
            "text/plain": [
              "<IPython.core.display.HTML object>"
            ]
          },
          "metadata": {
            "tags": []
          }
        },
        {
          "output_type": "stream",
          "text": [
            "Saving kaggle.json to kaggle.json\n"
          ],
          "name": "stdout"
        }
      ]
    },
    {
      "cell_type": "code",
      "metadata": {
        "id": "77auRPErA9pY",
        "colab_type": "code",
        "colab": {}
      },
      "source": [
        "!mkdir -p /root/.kaggle/\n",
        "!cp kaggle.json ~/.kaggle/"
      ],
      "execution_count": 0,
      "outputs": []
    },
    {
      "cell_type": "code",
      "metadata": {
        "id": "-SYyUW69AfEe",
        "colab_type": "code",
        "outputId": "af1c04b8-5645-411b-bc13-64b41ad1a341",
        "colab": {
          "base_uri": "https://localhost:8080/",
          "height": 252
        }
      },
      "source": [
        "!kaggle competitions download -c facial-keypoints-detection"
      ],
      "execution_count": 0,
      "outputs": [
        {
          "output_type": "stream",
          "text": [
            "Warning: Your Kaggle API key is readable by other users on this system! To fix this, you can run 'chmod 600 /root/.kaggle/kaggle.json'\n",
            "Warning: Looks like you're using an outdated API Version, please consider updating (server 1.5.6 / client 1.5.4)\n",
            "Downloading SampleSubmission.csv to /content\n",
            "  0% 0.00/201k [00:00<?, ?B/s]\n",
            "100% 201k/201k [00:00<00:00, 75.3MB/s]\n",
            "Downloading IdLookupTable.csv to /content\n",
            "  0% 0.00/843k [00:00<?, ?B/s]\n",
            "100% 843k/843k [00:00<00:00, 81.7MB/s]\n",
            "Downloading test.zip to /content\n",
            " 88% 14.0M/16.0M [00:00<00:00, 44.8MB/s]\n",
            "100% 16.0M/16.0M [00:00<00:00, 63.5MB/s]\n",
            "Downloading training.zip to /content\n",
            " 68% 41.0M/60.1M [00:00<00:00, 185MB/s]\n",
            "100% 60.1M/60.1M [00:00<00:00, 173MB/s]\n"
          ],
          "name": "stdout"
        }
      ]
    },
    {
      "cell_type": "code",
      "metadata": {
        "id": "WJEHEQFWBNjW",
        "colab_type": "code",
        "outputId": "ba3f9d10-9560-4ee2-b579-5b7b62d7254f",
        "colab": {
          "base_uri": "https://localhost:8080/",
          "height": 50
        }
      },
      "source": [
        "!ls"
      ],
      "execution_count": 0,
      "outputs": [
        {
          "output_type": "stream",
          "text": [
            "IdLookupTable.csv  sample_data\t\t test.zip\n",
            "kaggle.json\t   SampleSubmission.csv  training.zip\n"
          ],
          "name": "stdout"
        }
      ]
    },
    {
      "cell_type": "code",
      "metadata": {
        "id": "ezBe6nqsBRln",
        "colab_type": "code",
        "outputId": "7e1fcd92-3d41-4b97-9861-28edb0ddb9b1",
        "colab": {
          "base_uri": "https://localhost:8080/",
          "height": 84
        }
      },
      "source": [
        "!unzip training.zip\n",
        "!unzip test.zip"
      ],
      "execution_count": 0,
      "outputs": [
        {
          "output_type": "stream",
          "text": [
            "Archive:  training.zip\n",
            "  inflating: training.csv            \n",
            "Archive:  test.zip\n",
            "  inflating: test.csv                \n"
          ],
          "name": "stdout"
        }
      ]
    },
    {
      "cell_type": "code",
      "metadata": {
        "id": "i2N54HyDBYNf",
        "colab_type": "code",
        "outputId": "69350fa7-acf1-48a0-e9dd-56764f5249d6",
        "colab": {
          "base_uri": "https://localhost:8080/",
          "height": 50
        }
      },
      "source": [
        "!ls"
      ],
      "execution_count": 0,
      "outputs": [
        {
          "output_type": "stream",
          "text": [
            "IdLookupTable.csv  sample_data\t\t test.csv  training.csv\n",
            "kaggle.json\t   SampleSubmission.csv  test.zip  training.zip\n"
          ],
          "name": "stdout"
        }
      ]
    },
    {
      "cell_type": "markdown",
      "metadata": {
        "id": "ZlUlbz9Jj8Jz",
        "colab_type": "text"
      },
      "source": [
        "Preprocessing training data!"
      ]
    },
    {
      "cell_type": "code",
      "metadata": {
        "id": "rBktBSM7BaHS",
        "colab_type": "code",
        "colab": {}
      },
      "source": [
        "import pandas as pd\n",
        "df = pd.read_csv(\"training.csv\")"
      ],
      "execution_count": 0,
      "outputs": []
    },
    {
      "cell_type": "code",
      "metadata": {
        "id": "hsjztulsBhiX",
        "colab_type": "code",
        "outputId": "6502ab3f-6f91-4067-be29-94cb3bdb4d6b",
        "colab": {
          "base_uri": "https://localhost:8080/",
          "height": 965
        }
      },
      "source": [
        "df.head(1).T"
      ],
      "execution_count": 0,
      "outputs": [
        {
          "output_type": "execute_result",
          "data": {
            "text/html": [
              "<div>\n",
              "<style scoped>\n",
              "    .dataframe tbody tr th:only-of-type {\n",
              "        vertical-align: middle;\n",
              "    }\n",
              "\n",
              "    .dataframe tbody tr th {\n",
              "        vertical-align: top;\n",
              "    }\n",
              "\n",
              "    .dataframe thead th {\n",
              "        text-align: right;\n",
              "    }\n",
              "</style>\n",
              "<table border=\"1\" class=\"dataframe\">\n",
              "  <thead>\n",
              "    <tr style=\"text-align: right;\">\n",
              "      <th></th>\n",
              "      <th>0</th>\n",
              "    </tr>\n",
              "  </thead>\n",
              "  <tbody>\n",
              "    <tr>\n",
              "      <th>left_eye_center_x</th>\n",
              "      <td>66.0336</td>\n",
              "    </tr>\n",
              "    <tr>\n",
              "      <th>left_eye_center_y</th>\n",
              "      <td>39.0023</td>\n",
              "    </tr>\n",
              "    <tr>\n",
              "      <th>right_eye_center_x</th>\n",
              "      <td>30.227</td>\n",
              "    </tr>\n",
              "    <tr>\n",
              "      <th>right_eye_center_y</th>\n",
              "      <td>36.4217</td>\n",
              "    </tr>\n",
              "    <tr>\n",
              "      <th>left_eye_inner_corner_x</th>\n",
              "      <td>59.5821</td>\n",
              "    </tr>\n",
              "    <tr>\n",
              "      <th>left_eye_inner_corner_y</th>\n",
              "      <td>39.6474</td>\n",
              "    </tr>\n",
              "    <tr>\n",
              "      <th>left_eye_outer_corner_x</th>\n",
              "      <td>73.1303</td>\n",
              "    </tr>\n",
              "    <tr>\n",
              "      <th>left_eye_outer_corner_y</th>\n",
              "      <td>39.97</td>\n",
              "    </tr>\n",
              "    <tr>\n",
              "      <th>right_eye_inner_corner_x</th>\n",
              "      <td>36.3566</td>\n",
              "    </tr>\n",
              "    <tr>\n",
              "      <th>right_eye_inner_corner_y</th>\n",
              "      <td>37.3894</td>\n",
              "    </tr>\n",
              "    <tr>\n",
              "      <th>right_eye_outer_corner_x</th>\n",
              "      <td>23.4529</td>\n",
              "    </tr>\n",
              "    <tr>\n",
              "      <th>right_eye_outer_corner_y</th>\n",
              "      <td>37.3894</td>\n",
              "    </tr>\n",
              "    <tr>\n",
              "      <th>left_eyebrow_inner_end_x</th>\n",
              "      <td>56.9533</td>\n",
              "    </tr>\n",
              "    <tr>\n",
              "      <th>left_eyebrow_inner_end_y</th>\n",
              "      <td>29.0336</td>\n",
              "    </tr>\n",
              "    <tr>\n",
              "      <th>left_eyebrow_outer_end_x</th>\n",
              "      <td>80.2271</td>\n",
              "    </tr>\n",
              "    <tr>\n",
              "      <th>left_eyebrow_outer_end_y</th>\n",
              "      <td>32.2281</td>\n",
              "    </tr>\n",
              "    <tr>\n",
              "      <th>right_eyebrow_inner_end_x</th>\n",
              "      <td>40.2276</td>\n",
              "    </tr>\n",
              "    <tr>\n",
              "      <th>right_eyebrow_inner_end_y</th>\n",
              "      <td>29.0023</td>\n",
              "    </tr>\n",
              "    <tr>\n",
              "      <th>right_eyebrow_outer_end_x</th>\n",
              "      <td>16.3564</td>\n",
              "    </tr>\n",
              "    <tr>\n",
              "      <th>right_eyebrow_outer_end_y</th>\n",
              "      <td>29.6475</td>\n",
              "    </tr>\n",
              "    <tr>\n",
              "      <th>nose_tip_x</th>\n",
              "      <td>44.4206</td>\n",
              "    </tr>\n",
              "    <tr>\n",
              "      <th>nose_tip_y</th>\n",
              "      <td>57.0668</td>\n",
              "    </tr>\n",
              "    <tr>\n",
              "      <th>mouth_left_corner_x</th>\n",
              "      <td>61.1953</td>\n",
              "    </tr>\n",
              "    <tr>\n",
              "      <th>mouth_left_corner_y</th>\n",
              "      <td>79.9702</td>\n",
              "    </tr>\n",
              "    <tr>\n",
              "      <th>mouth_right_corner_x</th>\n",
              "      <td>28.6145</td>\n",
              "    </tr>\n",
              "    <tr>\n",
              "      <th>mouth_right_corner_y</th>\n",
              "      <td>77.389</td>\n",
              "    </tr>\n",
              "    <tr>\n",
              "      <th>mouth_center_top_lip_x</th>\n",
              "      <td>43.3126</td>\n",
              "    </tr>\n",
              "    <tr>\n",
              "      <th>mouth_center_top_lip_y</th>\n",
              "      <td>72.9355</td>\n",
              "    </tr>\n",
              "    <tr>\n",
              "      <th>mouth_center_bottom_lip_x</th>\n",
              "      <td>43.1307</td>\n",
              "    </tr>\n",
              "    <tr>\n",
              "      <th>mouth_center_bottom_lip_y</th>\n",
              "      <td>84.4858</td>\n",
              "    </tr>\n",
              "    <tr>\n",
              "      <th>Image</th>\n",
              "      <td>238 236 237 238 240 240 239 241 241 243 240 23...</td>\n",
              "    </tr>\n",
              "  </tbody>\n",
              "</table>\n",
              "</div>"
            ],
            "text/plain": [
              "                                                                           0\n",
              "left_eye_center_x                                                    66.0336\n",
              "left_eye_center_y                                                    39.0023\n",
              "right_eye_center_x                                                    30.227\n",
              "right_eye_center_y                                                   36.4217\n",
              "left_eye_inner_corner_x                                              59.5821\n",
              "left_eye_inner_corner_y                                              39.6474\n",
              "left_eye_outer_corner_x                                              73.1303\n",
              "left_eye_outer_corner_y                                                39.97\n",
              "right_eye_inner_corner_x                                             36.3566\n",
              "right_eye_inner_corner_y                                             37.3894\n",
              "right_eye_outer_corner_x                                             23.4529\n",
              "right_eye_outer_corner_y                                             37.3894\n",
              "left_eyebrow_inner_end_x                                             56.9533\n",
              "left_eyebrow_inner_end_y                                             29.0336\n",
              "left_eyebrow_outer_end_x                                             80.2271\n",
              "left_eyebrow_outer_end_y                                             32.2281\n",
              "right_eyebrow_inner_end_x                                            40.2276\n",
              "right_eyebrow_inner_end_y                                            29.0023\n",
              "right_eyebrow_outer_end_x                                            16.3564\n",
              "right_eyebrow_outer_end_y                                            29.6475\n",
              "nose_tip_x                                                           44.4206\n",
              "nose_tip_y                                                           57.0668\n",
              "mouth_left_corner_x                                                  61.1953\n",
              "mouth_left_corner_y                                                  79.9702\n",
              "mouth_right_corner_x                                                 28.6145\n",
              "mouth_right_corner_y                                                  77.389\n",
              "mouth_center_top_lip_x                                               43.3126\n",
              "mouth_center_top_lip_y                                               72.9355\n",
              "mouth_center_bottom_lip_x                                            43.1307\n",
              "mouth_center_bottom_lip_y                                            84.4858\n",
              "Image                      238 236 237 238 240 240 239 241 241 243 240 23..."
            ]
          },
          "metadata": {
            "tags": []
          },
          "execution_count": 10
        }
      ]
    },
    {
      "cell_type": "code",
      "metadata": {
        "id": "PK474KpnOA-m",
        "colab_type": "code",
        "outputId": "e2e6aa03-1b95-41d2-ff5b-2934b6ab2b76",
        "colab": {
          "base_uri": "https://localhost:8080/",
          "height": 554
        }
      },
      "source": [
        "df.isnull().sum()"
      ],
      "execution_count": 0,
      "outputs": [
        {
          "output_type": "execute_result",
          "data": {
            "text/plain": [
              "left_eye_center_x              10\n",
              "left_eye_center_y              10\n",
              "right_eye_center_x             13\n",
              "right_eye_center_y             13\n",
              "left_eye_inner_corner_x      4778\n",
              "left_eye_inner_corner_y      4778\n",
              "left_eye_outer_corner_x      4782\n",
              "left_eye_outer_corner_y      4782\n",
              "right_eye_inner_corner_x     4781\n",
              "right_eye_inner_corner_y     4781\n",
              "right_eye_outer_corner_x     4781\n",
              "right_eye_outer_corner_y     4781\n",
              "left_eyebrow_inner_end_x     4779\n",
              "left_eyebrow_inner_end_y     4779\n",
              "left_eyebrow_outer_end_x     4824\n",
              "left_eyebrow_outer_end_y     4824\n",
              "right_eyebrow_inner_end_x    4779\n",
              "right_eyebrow_inner_end_y    4779\n",
              "right_eyebrow_outer_end_x    4813\n",
              "right_eyebrow_outer_end_y    4813\n",
              "nose_tip_x                      0\n",
              "nose_tip_y                      0\n",
              "mouth_left_corner_x          4780\n",
              "mouth_left_corner_y          4780\n",
              "mouth_right_corner_x         4779\n",
              "mouth_right_corner_y         4779\n",
              "mouth_center_top_lip_x       4774\n",
              "mouth_center_top_lip_y       4774\n",
              "mouth_center_bottom_lip_x      33\n",
              "mouth_center_bottom_lip_y      33\n",
              "Image                           0\n",
              "dtype: int64"
            ]
          },
          "metadata": {
            "tags": []
          },
          "execution_count": 11
        }
      ]
    },
    {
      "cell_type": "code",
      "metadata": {
        "id": "MwwNUFhEO3ez",
        "colab_type": "code",
        "colab": {}
      },
      "source": [
        "df.fillna(df.mean(), inplace = True)"
      ],
      "execution_count": 0,
      "outputs": []
    },
    {
      "cell_type": "code",
      "metadata": {
        "id": "TFk4c7rTPGSK",
        "colab_type": "code",
        "outputId": "72827ab1-cbbb-4003-fd19-6e79f5d0fb72",
        "colab": {
          "base_uri": "https://localhost:8080/",
          "height": 554
        }
      },
      "source": [
        "df.isnull().sum()"
      ],
      "execution_count": 0,
      "outputs": [
        {
          "output_type": "execute_result",
          "data": {
            "text/plain": [
              "left_eye_center_x            0\n",
              "left_eye_center_y            0\n",
              "right_eye_center_x           0\n",
              "right_eye_center_y           0\n",
              "left_eye_inner_corner_x      0\n",
              "left_eye_inner_corner_y      0\n",
              "left_eye_outer_corner_x      0\n",
              "left_eye_outer_corner_y      0\n",
              "right_eye_inner_corner_x     0\n",
              "right_eye_inner_corner_y     0\n",
              "right_eye_outer_corner_x     0\n",
              "right_eye_outer_corner_y     0\n",
              "left_eyebrow_inner_end_x     0\n",
              "left_eyebrow_inner_end_y     0\n",
              "left_eyebrow_outer_end_x     0\n",
              "left_eyebrow_outer_end_y     0\n",
              "right_eyebrow_inner_end_x    0\n",
              "right_eyebrow_inner_end_y    0\n",
              "right_eyebrow_outer_end_x    0\n",
              "right_eyebrow_outer_end_y    0\n",
              "nose_tip_x                   0\n",
              "nose_tip_y                   0\n",
              "mouth_left_corner_x          0\n",
              "mouth_left_corner_y          0\n",
              "mouth_right_corner_x         0\n",
              "mouth_right_corner_y         0\n",
              "mouth_center_top_lip_x       0\n",
              "mouth_center_top_lip_y       0\n",
              "mouth_center_bottom_lip_x    0\n",
              "mouth_center_bottom_lip_y    0\n",
              "Image                        0\n",
              "dtype: int64"
            ]
          },
          "metadata": {
            "tags": []
          },
          "execution_count": 13
        }
      ]
    },
    {
      "cell_type": "code",
      "metadata": {
        "id": "CfPGmq6rktY7",
        "colab_type": "code",
        "colab": {}
      },
      "source": [
        "df.to_csv('training_modified.csv', index = False)"
      ],
      "execution_count": 0,
      "outputs": []
    },
    {
      "cell_type": "code",
      "metadata": {
        "id": "D1KfFyQKCUDX",
        "colab_type": "code",
        "outputId": "aa01c046-8018-4f3d-f478-5280d186ae65",
        "colab": {
          "base_uri": "https://localhost:8080/",
          "height": 268
        }
      },
      "source": [
        "import matplotlib.pyplot as plt\n",
        "import numpy as np\n",
        "\n",
        "image = df.loc[0, 'Image']\n",
        "x = df.iloc[0, 0:-1]\n",
        "image = np.array(image.split(' '), dtype = np.float)\n",
        "plt.imshow(image.reshape(96,96), cmap = 'gray')\n",
        "plt.scatter(x[0::2],x[1::2])\n",
        "plt.show()"
      ],
      "execution_count": 0,
      "outputs": [
        {
          "output_type": "display_data",
          "data": {
            "image/png": "[encoded data removed]",
            "text/plain": [
              "<Figure size 432x288 with 1 Axes>"
            ]
          },
          "metadata": {
            "tags": []
          }
        }
      ]
    },
    {
      "cell_type": "markdown",
      "metadata": {
        "id": "MZTle1sTqYe5",
        "colab_type": "text"
      },
      "source": [
        "Testing the testing dataset!"
      ]
    },
    {
      "cell_type": "code",
      "metadata": {
        "id": "4G81WHfClkgU",
        "colab_type": "code",
        "colab": {}
      },
      "source": [
        "test_df = pd.read_csv(\"test.csv\", index_col='ImageId')"
      ],
      "execution_count": 0,
      "outputs": []
    },
    {
      "cell_type": "code",
      "metadata": {
        "id": "uucUAH2DlqDq",
        "colab_type": "code",
        "outputId": "bff23f19-f7e0-4bb6-a3fe-025da9bacc59",
        "colab": {
          "base_uri": "https://localhost:8080/",
          "height": 50
        }
      },
      "source": [
        "test_df.isnull().sum()"
      ],
      "execution_count": 0,
      "outputs": [
        {
          "output_type": "execute_result",
          "data": {
            "text/plain": [
              "Image    0\n",
              "dtype: int64"
            ]
          },
          "metadata": {
            "tags": []
          },
          "execution_count": 17
        }
      ]
    },
    {
      "cell_type": "code",
      "metadata": {
        "id": "SgeoI31hqewe",
        "colab_type": "code",
        "outputId": "8dadab8d-b95f-45a8-d825-2f4eb0396eba",
        "colab": {
          "base_uri": "https://localhost:8080/",
          "height": 225
        }
      },
      "source": [
        "test_df.head()"
      ],
      "execution_count": 0,
      "outputs": [
        {
          "output_type": "execute_result",
          "data": {
            "text/html": [
              "<div>\n",
              "<style scoped>\n",
              "    .dataframe tbody tr th:only-of-type {\n",
              "        vertical-align: middle;\n",
              "    }\n",
              "\n",
              "    .dataframe tbody tr th {\n",
              "        vertical-align: top;\n",
              "    }\n",
              "\n",
              "    .dataframe thead th {\n",
              "        text-align: right;\n",
              "    }\n",
              "</style>\n",
              "<table border=\"1\" class=\"dataframe\">\n",
              "  <thead>\n",
              "    <tr style=\"text-align: right;\">\n",
              "      <th></th>\n",
              "      <th>Image</th>\n",
              "    </tr>\n",
              "    <tr>\n",
              "      <th>ImageId</th>\n",
              "      <th></th>\n",
              "    </tr>\n",
              "  </thead>\n",
              "  <tbody>\n",
              "    <tr>\n",
              "      <th>1</th>\n",
              "      <td>182 183 182 182 180 180 176 169 156 137 124 10...</td>\n",
              "    </tr>\n",
              "    <tr>\n",
              "      <th>2</th>\n",
              "      <td>76 87 81 72 65 59 64 76 69 42 31 38 49 58 58 4...</td>\n",
              "    </tr>\n",
              "    <tr>\n",
              "      <th>3</th>\n",
              "      <td>177 176 174 170 169 169 168 166 166 166 161 14...</td>\n",
              "    </tr>\n",
              "    <tr>\n",
              "      <th>4</th>\n",
              "      <td>176 174 174 175 174 174 176 176 175 171 165 15...</td>\n",
              "    </tr>\n",
              "    <tr>\n",
              "      <th>5</th>\n",
              "      <td>50 47 44 101 144 149 120 58 48 42 35 35 37 39 ...</td>\n",
              "    </tr>\n",
              "  </tbody>\n",
              "</table>\n",
              "</div>"
            ],
            "text/plain": [
              "                                                     Image\n",
              "ImageId                                                   \n",
              "1        182 183 182 182 180 180 176 169 156 137 124 10...\n",
              "2        76 87 81 72 65 59 64 76 69 42 31 38 49 58 58 4...\n",
              "3        177 176 174 170 169 169 168 166 166 166 161 14...\n",
              "4        176 174 174 175 174 174 176 176 175 171 165 15...\n",
              "5        50 47 44 101 144 149 120 58 48 42 35 35 37 39 ..."
            ]
          },
          "metadata": {
            "tags": []
          },
          "execution_count": 18
        }
      ]
    },
    {
      "cell_type": "markdown",
      "metadata": {
        "id": "YZFGH4I6t_gm",
        "colab_type": "text"
      },
      "source": [
        "Checking modified training dataset! Planning to split it into training and validation dataset!"
      ]
    },
    {
      "cell_type": "code",
      "metadata": {
        "id": "Kar9zbOMrACz",
        "colab_type": "code",
        "colab": {}
      },
      "source": [
        "df = pd.read_csv(\"training_modified.csv\")"
      ],
      "execution_count": 0,
      "outputs": []
    },
    {
      "cell_type": "code",
      "metadata": {
        "id": "-WNQ1LDhtHC7",
        "colab_type": "code",
        "outputId": "a1d7ceb1-da65-4f15-b9be-dcac17ea8cac",
        "colab": {
          "base_uri": "https://localhost:8080/",
          "height": 965
        }
      },
      "source": [
        "df.head(1).T"
      ],
      "execution_count": 0,
      "outputs": [
        {
          "output_type": "execute_result",
          "data": {
            "text/html": [
              "<div>\n",
              "<style scoped>\n",
              "    .dataframe tbody tr th:only-of-type {\n",
              "        vertical-align: middle;\n",
              "    }\n",
              "\n",
              "    .dataframe tbody tr th {\n",
              "        vertical-align: top;\n",
              "    }\n",
              "\n",
              "    .dataframe thead th {\n",
              "        text-align: right;\n",
              "    }\n",
              "</style>\n",
              "<table border=\"1\" class=\"dataframe\">\n",
              "  <thead>\n",
              "    <tr style=\"text-align: right;\">\n",
              "      <th></th>\n",
              "      <th>0</th>\n",
              "    </tr>\n",
              "  </thead>\n",
              "  <tbody>\n",
              "    <tr>\n",
              "      <th>left_eye_center_x</th>\n",
              "      <td>66.0336</td>\n",
              "    </tr>\n",
              "    <tr>\n",
              "      <th>left_eye_center_y</th>\n",
              "      <td>39.0023</td>\n",
              "    </tr>\n",
              "    <tr>\n",
              "      <th>right_eye_center_x</th>\n",
              "      <td>30.227</td>\n",
              "    </tr>\n",
              "    <tr>\n",
              "      <th>right_eye_center_y</th>\n",
              "      <td>36.4217</td>\n",
              "    </tr>\n",
              "    <tr>\n",
              "      <th>left_eye_inner_corner_x</th>\n",
              "      <td>59.5821</td>\n",
              "    </tr>\n",
              "    <tr>\n",
              "      <th>left_eye_inner_corner_y</th>\n",
              "      <td>39.6474</td>\n",
              "    </tr>\n",
              "    <tr>\n",
              "      <th>left_eye_outer_corner_x</th>\n",
              "      <td>73.1303</td>\n",
              "    </tr>\n",
              "    <tr>\n",
              "      <th>left_eye_outer_corner_y</th>\n",
              "      <td>39.97</td>\n",
              "    </tr>\n",
              "    <tr>\n",
              "      <th>right_eye_inner_corner_x</th>\n",
              "      <td>36.3566</td>\n",
              "    </tr>\n",
              "    <tr>\n",
              "      <th>right_eye_inner_corner_y</th>\n",
              "      <td>37.3894</td>\n",
              "    </tr>\n",
              "    <tr>\n",
              "      <th>right_eye_outer_corner_x</th>\n",
              "      <td>23.4529</td>\n",
              "    </tr>\n",
              "    <tr>\n",
              "      <th>right_eye_outer_corner_y</th>\n",
              "      <td>37.3894</td>\n",
              "    </tr>\n",
              "    <tr>\n",
              "      <th>left_eyebrow_inner_end_x</th>\n",
              "      <td>56.9533</td>\n",
              "    </tr>\n",
              "    <tr>\n",
              "      <th>left_eyebrow_inner_end_y</th>\n",
              "      <td>29.0336</td>\n",
              "    </tr>\n",
              "    <tr>\n",
              "      <th>left_eyebrow_outer_end_x</th>\n",
              "      <td>80.2271</td>\n",
              "    </tr>\n",
              "    <tr>\n",
              "      <th>left_eyebrow_outer_end_y</th>\n",
              "      <td>32.2281</td>\n",
              "    </tr>\n",
              "    <tr>\n",
              "      <th>right_eyebrow_inner_end_x</th>\n",
              "      <td>40.2276</td>\n",
              "    </tr>\n",
              "    <tr>\n",
              "      <th>right_eyebrow_inner_end_y</th>\n",
              "      <td>29.0023</td>\n",
              "    </tr>\n",
              "    <tr>\n",
              "      <th>right_eyebrow_outer_end_x</th>\n",
              "      <td>16.3564</td>\n",
              "    </tr>\n",
              "    <tr>\n",
              "      <th>right_eyebrow_outer_end_y</th>\n",
              "      <td>29.6475</td>\n",
              "    </tr>\n",
              "    <tr>\n",
              "      <th>nose_tip_x</th>\n",
              "      <td>44.4206</td>\n",
              "    </tr>\n",
              "    <tr>\n",
              "      <th>nose_tip_y</th>\n",
              "      <td>57.0668</td>\n",
              "    </tr>\n",
              "    <tr>\n",
              "      <th>mouth_left_corner_x</th>\n",
              "      <td>61.1953</td>\n",
              "    </tr>\n",
              "    <tr>\n",
              "      <th>mouth_left_corner_y</th>\n",
              "      <td>79.9702</td>\n",
              "    </tr>\n",
              "    <tr>\n",
              "      <th>mouth_right_corner_x</th>\n",
              "      <td>28.6145</td>\n",
              "    </tr>\n",
              "    <tr>\n",
              "      <th>mouth_right_corner_y</th>\n",
              "      <td>77.389</td>\n",
              "    </tr>\n",
              "    <tr>\n",
              "      <th>mouth_center_top_lip_x</th>\n",
              "      <td>43.3126</td>\n",
              "    </tr>\n",
              "    <tr>\n",
              "      <th>mouth_center_top_lip_y</th>\n",
              "      <td>72.9355</td>\n",
              "    </tr>\n",
              "    <tr>\n",
              "      <th>mouth_center_bottom_lip_x</th>\n",
              "      <td>43.1307</td>\n",
              "    </tr>\n",
              "    <tr>\n",
              "      <th>mouth_center_bottom_lip_y</th>\n",
              "      <td>84.4858</td>\n",
              "    </tr>\n",
              "    <tr>\n",
              "      <th>Image</th>\n",
              "      <td>238 236 237 238 240 240 239 241 241 243 240 23...</td>\n",
              "    </tr>\n",
              "  </tbody>\n",
              "</table>\n",
              "</div>"
            ],
            "text/plain": [
              "                                                                           0\n",
              "left_eye_center_x                                                    66.0336\n",
              "left_eye_center_y                                                    39.0023\n",
              "right_eye_center_x                                                    30.227\n",
              "right_eye_center_y                                                   36.4217\n",
              "left_eye_inner_corner_x                                              59.5821\n",
              "left_eye_inner_corner_y                                              39.6474\n",
              "left_eye_outer_corner_x                                              73.1303\n",
              "left_eye_outer_corner_y                                                39.97\n",
              "right_eye_inner_corner_x                                             36.3566\n",
              "right_eye_inner_corner_y                                             37.3894\n",
              "right_eye_outer_corner_x                                             23.4529\n",
              "right_eye_outer_corner_y                                             37.3894\n",
              "left_eyebrow_inner_end_x                                             56.9533\n",
              "left_eyebrow_inner_end_y                                             29.0336\n",
              "left_eyebrow_outer_end_x                                             80.2271\n",
              "left_eyebrow_outer_end_y                                             32.2281\n",
              "right_eyebrow_inner_end_x                                            40.2276\n",
              "right_eyebrow_inner_end_y                                            29.0023\n",
              "right_eyebrow_outer_end_x                                            16.3564\n",
              "right_eyebrow_outer_end_y                                            29.6475\n",
              "nose_tip_x                                                           44.4206\n",
              "nose_tip_y                                                           57.0668\n",
              "mouth_left_corner_x                                                  61.1953\n",
              "mouth_left_corner_y                                                  79.9702\n",
              "mouth_right_corner_x                                                 28.6145\n",
              "mouth_right_corner_y                                                  77.389\n",
              "mouth_center_top_lip_x                                               43.3126\n",
              "mouth_center_top_lip_y                                               72.9355\n",
              "mouth_center_bottom_lip_x                                            43.1307\n",
              "mouth_center_bottom_lip_y                                            84.4858\n",
              "Image                      238 236 237 238 240 240 239 241 241 243 240 23..."
            ]
          },
          "metadata": {
            "tags": []
          },
          "execution_count": 20
        }
      ]
    },
    {
      "cell_type": "markdown",
      "metadata": {
        "id": "nsQYj22Flugn",
        "colab_type": "text"
      },
      "source": [
        "Building custom dataset!"
      ]
    },
    {
      "cell_type": "code",
      "metadata": {
        "id": "fiUDLJDV0jhY",
        "colab_type": "code",
        "outputId": "9a9c10dc-7b12-4fff-8d68-1bd715fbf594",
        "colab": {
          "base_uri": "https://localhost:8080/",
          "height": 34
        }
      },
      "source": [
        "!pwd"
      ],
      "execution_count": 0,
      "outputs": [
        {
          "output_type": "stream",
          "text": [
            "/content\n"
          ],
          "name": "stdout"
        }
      ]
    },
    {
      "cell_type": "code",
      "metadata": {
        "id": "65Z1Gn_u0pCZ",
        "colab_type": "code",
        "outputId": "b325836d-5c41-4a24-9faa-545444025eaf",
        "colab": {
          "base_uri": "https://localhost:8080/",
          "height": 67
        }
      },
      "source": [
        "!ls /content"
      ],
      "execution_count": 0,
      "outputs": [
        {
          "output_type": "stream",
          "text": [
            "IdLookupTable.csv  SampleSubmission.csv  training.csv\n",
            "kaggle.json\t   test.csv\t\t training_modified.csv\n",
            "sample_data\t   test.zip\t\t training.zip\n"
          ],
          "name": "stdout"
        }
      ]
    },
    {
      "cell_type": "code",
      "metadata": {
        "id": "J7ZeyNWAGeSa",
        "colab_type": "code",
        "colab": {}
      },
      "source": [
        "import torch\n",
        "import torch.nn.functional as F\n",
        "import os\n",
        "import pandas as pd\n",
        "import numpy as np\n",
        "from torch.utils.data import Dataset\n",
        "import torchvision.transforms as transforms\n",
        "import matplotlib.pyplot as plt\n",
        "\n",
        "class FaceLandmarksDataset(Dataset):\n",
        "    \"\"\"Face Landmarks dataset.\"\"\"\n",
        "\n",
        "    def __init__(self, csv_file, root_dir, transform=None):\n",
        "        \"\"\"\n",
        "        Args:\n",
        "            csv_file (string): Path to the csv file with annotations.\n",
        "            root_dir (string): Directory with all the images.\n",
        "            transform (callable, optional): Optional transform to be applied\n",
        "                on a sample.\n",
        "        \"\"\"\n",
        "        self.root_dir = root_dir\n",
        "        self.dataframe = pd.read_csv(os.path.join(self.root_dir,csv_file))\n",
        "        self.transform = transform\n",
        "\n",
        "    def __len__(self):\n",
        "        return len(self.dataframe)\n",
        "\n",
        "    def __getitem__(self, idx):\n",
        "        if torch.is_tensor(idx):\n",
        "            idx = idx.tolist()\n",
        "\n",
        "        landmarks = self.dataframe.iloc[idx, 0:-1]\n",
        "        landmarks = np.array(landmarks)\n",
        "        landmarks = landmarks.astype('float')\n",
        "\n",
        "        image = self.dataframe.loc[idx, 'Image'].split(' ')\n",
        "        image = np.array(list(map(int, image))).reshape(96,96)\n",
        "        image = np.expand_dims(image, 2)\n",
        "  \n",
        "        sample = {'image':image,\n",
        "                  'landmarks':landmarks}\n",
        "\n",
        "        if self.transform:\n",
        "            sample = self.transform(sample)\n",
        "\n",
        "        return sample['image'], sample['landmarks']\n",
        "\n",
        "class ToTensor(object):\n",
        "    \"\"\"Convert ndarrays in sample to Tensors.\"\"\"\n",
        "\n",
        "    def __call__(self, sample):\n",
        "        image, landmarks = sample['image'], sample['landmarks']\n",
        "        # swap color axis because\n",
        "        # numpy image: H x W x C\n",
        "        # torch image: C X H X W\n",
        "        image = np.transpose(image, (2, 0, 1))\n",
        "        image = np.array(image/255)\n",
        "        image = image.astype('float')\n",
        "        image, landmarks = torch.from_numpy(image), torch.from_numpy(landmarks)\n",
        "        \n",
        "        return {'image':image,\n",
        "                'landmarks':landmarks}\n",
        "\n",
        "class Normalize(object):\n",
        "    def __init__(self, mean, std):\n",
        "        self.mean = mean[0]\n",
        "        self.std = std[0]\n",
        "\n",
        "    def __call__(self, sample):\n",
        "        \"\"\"\n",
        "        Args:\n",
        "            tensor (Tensor): Tensor image of size (C, H, W) to be normalized.\n",
        "\n",
        "        Returns:\n",
        "            Tensor: Normalized Tensor image.\n",
        "        \"\"\"\n",
        "        image, landmarks = sample['image'], sample['landmarks']\n",
        "        image = (image - self.mean)/self.std\n",
        "\n",
        "        return {'image':image,\n",
        "                'landmarks':landmarks}\n"
      ],
      "execution_count": 0,
      "outputs": []
    },
    {
      "cell_type": "code",
      "metadata": {
        "id": "QwY3DiyZPUKu",
        "colab_type": "code",
        "colab": {}
      },
      "source": [
        "face_dataset = FaceLandmarksDataset(csv_file='training_modified.csv',\n",
        "                                    root_dir = '/content',\n",
        "                                    transform = transforms.Compose([ToTensor(),\n",
        "                                                                    Normalize((0.5,),(0.5,))]) )"
      ],
      "execution_count": 0,
      "outputs": []
    },
    {
      "cell_type": "code",
      "metadata": {
        "id": "caIbVqv9Vbk2",
        "colab_type": "code",
        "colab": {}
      },
      "source": [
        "from torch.utils.data.sampler import SubsetRandomSampler\n",
        "\n",
        "torch.manual_seed(29)\n",
        "\n",
        "train_validation_split = 0.7\n",
        "dataset_size = face_dataset.__len__()\n",
        "indices = np.arange(dataset_size)\n",
        "np.random.shuffle(indices)\n",
        "\n",
        "split = int(np.floor(train_validation_split * dataset_size))\n",
        "train_idx, valid_idx = indices[:split], indices[split:]\n",
        "\n",
        "train_sampler = SubsetRandomSampler(train_idx)\n",
        "validation_sampler = SubsetRandomSampler(valid_idx)\n",
        "\n",
        "\n",
        "train_loader = torch.utils.data.DataLoader(face_dataset, batch_size = 32, sampler = train_sampler)\n",
        "validation_loader = torch.utils.data.DataLoader(face_dataset, batch_size = 32, sampler = validation_sampler)"
      ],
      "execution_count": 0,
      "outputs": []
    },
    {
      "cell_type": "code",
      "metadata": {
        "id": "6wzwJlw5d82K",
        "colab_type": "code",
        "outputId": "c1754d1a-85d8-4995-ffd4-a24411c36865",
        "colab": {
          "base_uri": "https://localhost:8080/",
          "height": 285
        }
      },
      "source": [
        "iterator = iter(train_loader)\n",
        "images, landmarks = iterator.next()\n",
        "image, landmarkForImage = images[0], landmarks[0]\n",
        "#image = image*0.5 + 0.5\n",
        "#print(image)\n",
        "plt.imshow(np.squeeze(image.numpy()), cmap = 'gray')\n",
        "plt.scatter(landmarkForImage[0::2], landmarkForImage[1::2])"
      ],
      "execution_count": 0,
      "outputs": [
        {
          "output_type": "execute_result",
          "data": {
            "text/plain": [
              "<matplotlib.collections.PathCollection at 0x7efde220ccc0>"
            ]
          },
          "metadata": {
            "tags": []
          },
          "execution_count": 4
        },
        {
          "output_type": "display_data",
          "data": {
            "image/png": "[encoded data removed]",
            "text/plain": [
              "<Figure size 432x288 with 1 Axes>"
            ]
          },
          "metadata": {
            "tags": []
          }
        }
      ]
    },
    {
      "cell_type": "code",
      "metadata": {
        "id": "tNs53LfweHjC",
        "colab_type": "code",
        "outputId": "50cfdd1a-62eb-44d5-fcfa-50677a8b4ce0",
        "colab": {
          "base_uri": "https://localhost:8080/",
          "height": 168
        }
      },
      "source": [
        "import torch.nn as nn\n",
        "import torch.nn.functional as F\n",
        "\n",
        "\n",
        "class Net(nn.Module):\n",
        "    def __init__(self):\n",
        "        super(Net, self).__init__()\n",
        "        \n",
        "        self.conv1 = nn.Conv2d(1, 16, 3, padding=1)\n",
        "        \n",
        "        self.conv2 = nn.Conv2d(16, 64, 3, padding=1)\n",
        " \n",
        "        self.conv3 = nn.Conv2d(64, 128, 3, padding=1)\n",
        "        \n",
        "        self.pool = nn.MaxPool2d(2, 2)\n",
        "        \n",
        "        self.fc1 = nn.Linear(128 * 12 * 12, 500)\n",
        "        \n",
        "        self.fc2 = nn.Linear(500, 30)\n",
        "        \n",
        "        self.dropout = nn.Dropout(0.25)\n",
        "\n",
        "    def forward(self, x):\n",
        "        # add sequence of convolutional and max pooling layers\n",
        "        x = self.pool(F.relu(self.conv1(x)))\n",
        "        x = self.pool(F.relu(self.conv2(x)))\n",
        "        x = self.pool(F.relu(self.conv3(x)))\n",
        "        # flatten image input\n",
        "        x = x.view(x.shape[0], -1)\n",
        "        # add dropout layer\n",
        "        x = self.dropout(x)\n",
        "        # add 1st hidden layer, with relu activation function\n",
        "        x = F.relu(self.fc1(x))\n",
        "        # add dropout layer\n",
        "        x = self.dropout(x)\n",
        "        # add 2nd hidden layer, with relu activation function\n",
        "        x = self.fc2(x)\n",
        "        return x\n",
        "\n",
        "# create a complete CNN\n",
        "model = Net()\n",
        "\n",
        "\n",
        "# move tensors to GPU if CUDA is available\n",
        "model.to('cuda')"
      ],
      "execution_count": 0,
      "outputs": [
        {
          "output_type": "execute_result",
          "data": {
            "text/plain": [
              "Net(\n",
              "  (conv1): Conv2d(1, 16, kernel_size=(3, 3), stride=(1, 1), padding=(1, 1))\n",
              "  (conv2): Conv2d(16, 64, kernel_size=(3, 3), stride=(1, 1), padding=(1, 1))\n",
              "  (conv3): Conv2d(64, 128, kernel_size=(3, 3), stride=(1, 1), padding=(1, 1))\n",
              "  (pool): MaxPool2d(kernel_size=2, stride=2, padding=0, dilation=1, ceil_mode=False)\n",
              "  (fc1): Linear(in_features=18432, out_features=500, bias=True)\n",
              "  (fc2): Linear(in_features=500, out_features=30, bias=True)\n",
              "  (dropout): Dropout(p=0.25, inplace=False)\n",
              ")"
            ]
          },
          "metadata": {
            "tags": []
          },
          "execution_count": 5
        }
      ]
    },
    {
      "cell_type": "code",
      "metadata": {
        "id": "sAyuteZW_9Bz",
        "colab_type": "code",
        "colab": {}
      },
      "source": [
        "import torch.optim as optim\n",
        "criterion = nn.MSELoss()\n",
        "optimiser = optim.Adam(model.parameters())"
      ],
      "execution_count": 0,
      "outputs": []
    },
    {
      "cell_type": "code",
      "metadata": {
        "id": "qSiQtT0GfPZE",
        "colab_type": "code",
        "outputId": "492807c6-259c-417c-e002-9ec4b210bb2d",
        "colab": {
          "base_uri": "https://localhost:8080/",
          "height": 1000
        }
      },
      "source": [
        "#train and validation\n",
        "\n",
        "train_loss_list = list()\n",
        "validation_loss_list = list()\n",
        "validationloss_min = np.Inf\n",
        "epochs = 275\n",
        "\n",
        "for epoch in range(epochs):\n",
        "  running_train_loss = 0\n",
        "  model.train()\n",
        "  for images, landmarks in train_loader:\n",
        "    images, landmarks = images.float().to('cuda'), landmarks.float().to('cuda')\n",
        "    optimiser.zero_grad()\n",
        "    output = model(images)\n",
        "    loss = criterion(output, landmarks)\n",
        "    running_train_loss += loss.item()\n",
        "    loss.backward()\n",
        "    optimiser.step()\n",
        "  else:\n",
        "    avg_train_loss = running_train_loss/len(train_loader.sampler)\n",
        "    train_loss_list.append(avg_train_loss)\n",
        "\n",
        "  running_validation_loss = 0\n",
        "  accuracy = 0\n",
        "  model.eval()\n",
        "  with torch.no_grad():\n",
        "    for images, landmarks in validation_loader:\n",
        "      images, landmarks = images.float().to('cuda'), landmarks.float().to('cuda')\n",
        "      output = model(images)\n",
        "      loss = criterion(output, landmarks)\n",
        "      running_validation_loss += loss.item()\n",
        "\n",
        "    else:\n",
        "      avg_validation_loss = running_validation_loss/len(validation_loader.sampler)\n",
        "      if avg_validation_loss <= validationloss_min:\n",
        "        validationloss_min = avg_validation_loss\n",
        "        torch.save(model.state_dict(), 'facelandmarks.pth')\n",
        "      validation_loss_list.append(avg_validation_loss)\n",
        "  \n",
        "  print(f\"For the epoch {epoch+1}/{epochs}\",\n",
        "        f\"Training loss is {avg_train_loss}\",\n",
        "        f\"Validation loss is {avg_validation_loss}\")\n",
        "\n",
        "    \n",
        "    "
      ],
      "execution_count": 0,
      "outputs": [
        {
          "output_type": "stream",
          "text": [
            "For the epoch 1/275 Training loss is 4.268571077400149 Validation loss is 0.4016870237129518\n",
            "For the epoch 2/275 Training loss is 0.6817476692400725 Validation loss is 0.2828734424942774\n",
            "For the epoch 3/275 Training loss is 0.5725474711318803 Validation loss is 0.24228793362917347\n",
            "For the epoch 4/275 Training loss is 0.5054553035400539 Validation loss is 0.2649781998167647\n",
            "For the epoch 5/275 Training loss is 0.49276621872276055 Validation loss is 0.37373466559335694\n",
            "For the epoch 6/275 Training loss is 0.46614114388696665 Validation loss is 0.24424453153677866\n",
            "For the epoch 7/275 Training loss is 0.4729205123026167 Validation loss is 0.2583462694857983\n",
            "For the epoch 8/275 Training loss is 0.4599214474778935 Validation loss is 0.4125959766108375\n",
            "For the epoch 9/275 Training loss is 0.42627106043410096 Validation loss is 0.37561349778592446\n",
            "For the epoch 10/275 Training loss is 0.4508375834490927 Validation loss is 0.27314535100409326\n",
            "For the epoch 11/275 Training loss is 0.40584163806870444 Validation loss is 0.3846864894208615\n",
            "For the epoch 12/275 Training loss is 0.400294975757019 Validation loss is 0.2787369490233437\n",
            "For the epoch 13/275 Training loss is 0.4109630132426991 Validation loss is 0.4052287275345895\n",
            "For the epoch 14/275 Training loss is 0.42219138493362013 Validation loss is 0.44900739006962337\n",
            "For the epoch 15/275 Training loss is 0.40543843417405406 Validation loss is 0.28165976071188636\n",
            "For the epoch 16/275 Training loss is 0.4109210731241932 Validation loss is 0.22760569897103816\n",
            "For the epoch 17/275 Training loss is 0.3714462638046271 Validation loss is 0.2041889657365515\n",
            "For the epoch 18/275 Training loss is 0.38189069945463344 Validation loss is 0.21749084937093388\n",
            "For the epoch 19/275 Training loss is 0.37182285643609664 Validation loss is 0.27500872194907905\n",
            "For the epoch 20/275 Training loss is 0.3649074686264576 Validation loss is 0.4125030567178208\n",
            "For the epoch 21/275 Training loss is 0.3753735279814647 Validation loss is 0.26741631250854925\n",
            "For the epoch 22/275 Training loss is 0.3548083344016135 Validation loss is 0.20163056269886928\n",
            "For the epoch 23/275 Training loss is 0.36080919657344995 Validation loss is 0.20747619949052237\n",
            "For the epoch 24/275 Training loss is 0.3665978397296709 Validation loss is 0.20288154960524105\n",
            "For the epoch 25/275 Training loss is 0.35351066459853686 Validation loss is 0.1859798421251013\n",
            "For the epoch 26/275 Training loss is 0.3366067638559577 Validation loss is 0.18984323979551346\n",
            "For the epoch 27/275 Training loss is 0.3610207192753798 Validation loss is 0.1716247346666124\n",
            "For the epoch 28/275 Training loss is 0.3309159644180626 Validation loss is 0.18759850384777602\n",
            "For the epoch 29/275 Training loss is 0.3344664084655242 Validation loss is 0.2242072619444935\n",
            "For the epoch 30/275 Training loss is 0.33485462388192105 Validation loss is 0.19701320003392284\n",
            "For the epoch 31/275 Training loss is 0.33513916084821477 Validation loss is 0.16837718458604023\n",
            "For the epoch 32/275 Training loss is 0.3116370335638064 Validation loss is 0.16635773503188545\n",
            "For the epoch 33/275 Training loss is 0.3234909985004575 Validation loss is 0.17714378918316348\n",
            "For the epoch 34/275 Training loss is 0.3167334300668606 Validation loss is 0.1927745861928232\n",
            "For the epoch 35/275 Training loss is 0.32131824021789773 Validation loss is 0.2850617018715428\n",
            "For the epoch 36/275 Training loss is 0.3304118363056098 Validation loss is 0.18738195552329928\n",
            "For the epoch 37/275 Training loss is 0.32344322625953853 Validation loss is 0.15676563828831305\n",
            "For the epoch 38/275 Training loss is 0.31845861685435495 Validation loss is 0.15615274584885186\n",
            "For the epoch 39/275 Training loss is 0.30751496729794714 Validation loss is 0.17694509767753294\n",
            "For the epoch 40/275 Training loss is 0.30494615332916963 Validation loss is 0.1571535401310481\n",
            "For the epoch 41/275 Training loss is 0.3212248621848995 Validation loss is 0.192471533633293\n",
            "For the epoch 42/275 Training loss is 0.3102425689101944 Validation loss is 0.17008009024545656\n",
            "For the epoch 43/275 Training loss is 0.31427542023877164 Validation loss is 0.2318672295157791\n",
            "For the epoch 44/275 Training loss is 0.3126848065809629 Validation loss is 0.20072654911248677\n",
            "For the epoch 45/275 Training loss is 0.3090151548868836 Validation loss is 0.1685723982240573\n",
            "For the epoch 46/275 Training loss is 0.31474554041014735 Validation loss is 0.21841527699860558\n",
            "For the epoch 47/275 Training loss is 0.3171572597296459 Validation loss is 0.1841471427439516\n",
            "For the epoch 48/275 Training loss is 0.2994326177665856 Validation loss is 0.14705753563143684\n",
            "For the epoch 49/275 Training loss is 0.29809720669867396 Validation loss is 0.15989760371810155\n",
            "For the epoch 50/275 Training loss is 0.29987700854325805 Validation loss is 0.15360575240836358\n",
            "For the epoch 51/275 Training loss is 0.3060515826657855 Validation loss is 0.15284494592788372\n",
            "For the epoch 52/275 Training loss is 0.3045241626883307 Validation loss is 0.14716989492411872\n",
            "For the epoch 53/275 Training loss is 0.30054281818079087 Validation loss is 0.1446871580525211\n",
            "For the epoch 54/275 Training loss is 0.2942701182386679 Validation loss is 0.23050694319091508\n",
            "For the epoch 55/275 Training loss is 0.2896127085188984 Validation loss is 0.15288889447566184\n",
            "For the epoch 56/275 Training loss is 0.30620993241927474 Validation loss is 0.15777455480949817\n",
            "For the epoch 57/275 Training loss is 0.29920115932840347 Validation loss is 0.2214770093877265\n",
            "For the epoch 58/275 Training loss is 0.301567988788062 Validation loss is 0.1401853583383222\n",
            "For the epoch 59/275 Training loss is 0.29111406771238874 Validation loss is 0.15061265633179505\n",
            "For the epoch 60/275 Training loss is 0.29979011265430366 Validation loss is 0.17939662967167846\n",
            "For the epoch 61/275 Training loss is 0.2882752694917392 Validation loss is 0.13727603691407692\n",
            "For the epoch 62/275 Training loss is 0.28736916475562757 Validation loss is 0.24234914576753658\n",
            "For the epoch 63/275 Training loss is 0.3081973372174508 Validation loss is 0.1663943703292955\n",
            "For the epoch 64/275 Training loss is 0.3058040345976311 Validation loss is 0.20885819103700895\n",
            "For the epoch 65/275 Training loss is 0.28966647543595975 Validation loss is 0.14313064974250522\n",
            "For the epoch 66/275 Training loss is 0.2891235153444102 Validation loss is 0.14801463911719356\n",
            "For the epoch 67/275 Training loss is 0.27972789094860756 Validation loss is 0.14742123748111952\n",
            "For the epoch 68/275 Training loss is 0.2808249951568653 Validation loss is 0.178615909941653\n",
            "For the epoch 69/275 Training loss is 0.2900470219307889 Validation loss is 0.13623379187099197\n",
            "For the epoch 70/275 Training loss is 0.2891674625472497 Validation loss is 0.13376290905278343\n",
            "For the epoch 71/275 Training loss is 0.2849980966253323 Validation loss is 0.14556427802318095\n",
            "For the epoch 72/275 Training loss is 0.2790653165361878 Validation loss is 0.13671298432857432\n",
            "For the epoch 73/275 Training loss is 0.2862502544768001 Validation loss is 0.17937661626378412\n",
            "For the epoch 74/275 Training loss is 0.28431003732530513 Validation loss is 0.15887497976316628\n",
            "For the epoch 75/275 Training loss is 0.2924220438278006 Validation loss is 0.18866124728047257\n",
            "For the epoch 76/275 Training loss is 0.28434862566709423 Validation loss is 0.147324264472258\n",
            "For the epoch 77/275 Training loss is 0.2733355248849016 Validation loss is 0.16683114809347382\n",
            "For the epoch 78/275 Training loss is 0.27759285440897236 Validation loss is 0.13963113665298932\n",
            "For the epoch 79/275 Training loss is 0.2739717264527196 Validation loss is 0.16362368959061643\n",
            "For the epoch 80/275 Training loss is 0.2833103321803742 Validation loss is 0.14217634606868662\n",
            "For the epoch 81/275 Training loss is 0.27079688545949165 Validation loss is 0.12890557803160754\n",
            "For the epoch 82/275 Training loss is 0.2849188577708417 Validation loss is 0.13278433059124237\n",
            "For the epoch 83/275 Training loss is 0.26858523909650356 Validation loss is 0.16297803206928516\n",
            "For the epoch 84/275 Training loss is 0.28482698650074045 Validation loss is 0.13468839327494303\n",
            "For the epoch 85/275 Training loss is 0.27239384948844897 Validation loss is 0.12985905941496503\n",
            "For the epoch 86/275 Training loss is 0.2646111076449304 Validation loss is 0.13141936094766532\n",
            "For the epoch 87/275 Training loss is 0.2648617215228071 Validation loss is 0.1289945131216207\n",
            "For the epoch 88/275 Training loss is 0.2691434014408899 Validation loss is 0.17131931032131187\n",
            "For the epoch 89/275 Training loss is 0.2684102416956623 Validation loss is 0.2147875192881194\n",
            "For the epoch 90/275 Training loss is 0.2680031151533803 Validation loss is 0.1329106502217322\n",
            "For the epoch 91/275 Training loss is 0.2593465980171046 Validation loss is 0.1493824637528007\n",
            "For the epoch 92/275 Training loss is 0.26425276635676004 Validation loss is 0.16357392295314346\n",
            "For the epoch 93/275 Training loss is 0.2738611807357361 Validation loss is 0.20201335550763647\n",
            "For the epoch 94/275 Training loss is 0.26261430420661 Validation loss is 0.13216233484570297\n",
            "For the epoch 95/275 Training loss is 0.26468653450816276 Validation loss is 0.1661972951099946\n",
            "For the epoch 96/275 Training loss is 0.27544353594894005 Validation loss is 0.1323114459396254\n",
            "For the epoch 97/275 Training loss is 0.2647715718532604 Validation loss is 0.13657354711077174\n",
            "For the epoch 98/275 Training loss is 0.2569433971122058 Validation loss is 0.139522076103986\n",
            "For the epoch 99/275 Training loss is 0.25235339471285867 Validation loss is 0.1356679934981867\n",
            "For the epoch 100/275 Training loss is 0.2571922304372242 Validation loss is 0.13780982082899018\n",
            "For the epoch 101/275 Training loss is 0.26122753949700744 Validation loss is 0.1629251986248837\n",
            "For the epoch 102/275 Training loss is 0.25555370450261444 Validation loss is 0.179819150117554\n",
            "For the epoch 103/275 Training loss is 0.25220433303978357 Validation loss is 0.1253419838898571\n",
            "For the epoch 104/275 Training loss is 0.25506582209877415 Validation loss is 0.14576534864186677\n",
            "For the epoch 105/275 Training loss is 0.26032415893718597 Validation loss is 0.14241081574848075\n",
            "For the epoch 106/275 Training loss is 0.26401813193569795 Validation loss is 0.16877418015301932\n",
            "For the epoch 107/275 Training loss is 0.26425802296938855 Validation loss is 0.13167415533223614\n",
            "For the epoch 108/275 Training loss is 0.2598022317712395 Validation loss is 0.13685885106981788\n",
            "For the epoch 109/275 Training loss is 0.24991457347305476 Validation loss is 0.14643128374789624\n",
            "For the epoch 110/275 Training loss is 0.24910264591190753 Validation loss is 0.13018877393528644\n",
            "For the epoch 111/275 Training loss is 0.2537390113021857 Validation loss is 0.12918059436987478\n",
            "For the epoch 112/275 Training loss is 0.2548100014761193 Validation loss is 0.14081205791897244\n",
            "For the epoch 113/275 Training loss is 0.24719418327384116 Validation loss is 0.14901089025727401\n",
            "For the epoch 114/275 Training loss is 0.24122422602575802 Validation loss is 0.14874934969782547\n",
            "For the epoch 115/275 Training loss is 0.2428427524879774 Validation loss is 0.25166666896630685\n",
            "For the epoch 116/275 Training loss is 0.2567947806739884 Validation loss is 0.16275539420738852\n",
            "For the epoch 117/275 Training loss is 0.2438501935764803 Validation loss is 0.1282966261496217\n",
            "For the epoch 118/275 Training loss is 0.24352695017050383 Validation loss is 0.15440814557086774\n",
            "For the epoch 119/275 Training loss is 0.23880759713907787 Validation loss is 0.13799429554183995\n",
            "For the epoch 120/275 Training loss is 0.24579459208924131 Validation loss is 0.14212338186043091\n",
            "For the epoch 121/275 Training loss is 0.24137362739940282 Validation loss is 0.12538354487002037\n",
            "For the epoch 122/275 Training loss is 0.24039341372229767 Validation loss is 0.1360596308471463\n",
            "For the epoch 123/275 Training loss is 0.24480280742792163 Validation loss is 0.13572097162828378\n",
            "For the epoch 124/275 Training loss is 0.2431293462614903 Validation loss is 0.148902742237064\n",
            "For the epoch 125/275 Training loss is 0.24287919540080552 Validation loss is 0.17854294179460964\n",
            "For the epoch 126/275 Training loss is 0.2689264922379771 Validation loss is 0.1278605368684088\n",
            "For the epoch 127/275 Training loss is 0.2417585210950934 Validation loss is 0.21700291892879117\n",
            "For the epoch 128/275 Training loss is 0.2560993523359975 Validation loss is 0.26890568316123725\n",
            "For the epoch 129/275 Training loss is 0.2582550763987219 Validation loss is 0.12094639875082823\n",
            "For the epoch 130/275 Training loss is 0.24372643780795292 Validation loss is 0.12121620640405245\n",
            "For the epoch 131/275 Training loss is 0.24827453028976942 Validation loss is 0.21284600611837762\n",
            "For the epoch 132/275 Training loss is 0.23996521260122755 Validation loss is 0.1582237625798435\n",
            "For the epoch 133/275 Training loss is 0.23680999301250136 Validation loss is 0.12801597653833124\n",
            "For the epoch 134/275 Training loss is 0.23551916302965872 Validation loss is 0.12585499438833683\n",
            "For the epoch 135/275 Training loss is 0.23840536392793318 Validation loss is 0.14488699543278832\n",
            "For the epoch 136/275 Training loss is 0.23567240108687915 Validation loss is 0.15282699255796753\n",
            "For the epoch 137/275 Training loss is 0.24463644673286009 Validation loss is 0.11812169427849159\n",
            "For the epoch 138/275 Training loss is 0.2530527304288681 Validation loss is 0.2823976570832814\n",
            "For the epoch 139/275 Training loss is 0.2445173645290132 Validation loss is 0.12395400110429625\n",
            "For the epoch 140/275 Training loss is 0.24347387198064316 Validation loss is 0.1306296183989685\n",
            "For the epoch 141/275 Training loss is 0.24478752201367932 Validation loss is 0.12736676934199412\n",
            "For the epoch 142/275 Training loss is 0.2371469654435806 Validation loss is 0.16242458690706438\n",
            "For the epoch 143/275 Training loss is 0.24960813350314112 Validation loss is 0.14861716254664933\n",
            "For the epoch 144/275 Training loss is 0.23967967421891576 Validation loss is 0.13783526183865594\n",
            "For the epoch 145/275 Training loss is 0.24336930204607188 Validation loss is 0.1606270446281343\n",
            "For the epoch 146/275 Training loss is 0.23277200867784714 Validation loss is 0.1279487547863178\n",
            "For the epoch 147/275 Training loss is 0.23757005549656218 Validation loss is 0.17118292046495082\n",
            "For the epoch 148/275 Training loss is 0.23020944829213266 Validation loss is 0.16709013898321923\n",
            "For the epoch 149/275 Training loss is 0.24395478540071844 Validation loss is 0.22293437412162762\n",
            "For the epoch 150/275 Training loss is 0.24024582073472994 Validation loss is 0.12470318786359566\n",
            "For the epoch 151/275 Training loss is 0.23777519839951322 Validation loss is 0.22465034354099428\n",
            "For the epoch 152/275 Training loss is 0.22139177411299366 Validation loss is 0.1616702397664388\n",
            "For the epoch 153/275 Training loss is 0.2420848975260827 Validation loss is 0.1802072733570216\n",
            "For the epoch 154/275 Training loss is 0.2341824197363264 Validation loss is 0.15198657236482516\n",
            "For the epoch 155/275 Training loss is 0.23587845093719767 Validation loss is 0.14576919918646486\n",
            "For the epoch 156/275 Training loss is 0.2439144282965318 Validation loss is 0.14571579782111707\n",
            "For the epoch 157/275 Training loss is 0.2409844606281245 Validation loss is 0.11968218389695981\n",
            "For the epoch 158/275 Training loss is 0.24194500549727718 Validation loss is 0.13884487422645514\n",
            "For the epoch 159/275 Training loss is 0.2249975323338812 Validation loss is 0.12245846008859909\n",
            "For the epoch 160/275 Training loss is 0.23310642064608297 Validation loss is 0.16035463477421033\n",
            "For the epoch 161/275 Training loss is 0.23096213139741587 Validation loss is 0.1214001789160654\n",
            "For the epoch 162/275 Training loss is 0.2343061246705722 Validation loss is 0.18520221608750365\n",
            "For the epoch 163/275 Training loss is 0.2227263447723265 Validation loss is 0.15199831112620396\n",
            "For the epoch 164/275 Training loss is 0.22833258002984363 Validation loss is 0.12112622926139381\n",
            "For the epoch 165/275 Training loss is 0.22421736431160483 Validation loss is 0.15068236299158552\n",
            "For the epoch 166/275 Training loss is 0.23320124590981572 Validation loss is 0.150988745294846\n",
            "For the epoch 167/275 Training loss is 0.22501273845244285 Validation loss is 0.19038968255333866\n",
            "For the epoch 168/275 Training loss is 0.2283424523662448 Validation loss is 0.12203784101680097\n",
            "For the epoch 169/275 Training loss is 0.22989849938909487 Validation loss is 0.1520371697473188\n",
            "For the epoch 170/275 Training loss is 0.23010244937768387 Validation loss is 0.12911152287296088\n",
            "For the epoch 171/275 Training loss is 0.2270578102008215 Validation loss is 0.13769909766267097\n",
            "For the epoch 172/275 Training loss is 0.22164694079997135 Validation loss is 0.1274770857876356\n",
            "For the epoch 173/275 Training loss is 0.229335158374757 Validation loss is 0.13385034808030366\n",
            "For the epoch 174/275 Training loss is 0.226923912993123 Validation loss is 0.12792639923997523\n",
            "For the epoch 175/275 Training loss is 0.230527948840311 Validation loss is 0.20542900229740368\n",
            "For the epoch 176/275 Training loss is 0.22991359219359733 Validation loss is 0.12309352917592295\n",
            "For the epoch 177/275 Training loss is 0.21612070357698054 Validation loss is 0.1572328640777732\n",
            "For the epoch 178/275 Training loss is 0.23359642968179728 Validation loss is 0.16949745960551232\n",
            "For the epoch 179/275 Training loss is 0.22641234142750344 Validation loss is 0.12764066060384113\n",
            "For the epoch 180/275 Training loss is 0.22146322169572563 Validation loss is 0.11941528833222445\n",
            "For the epoch 181/275 Training loss is 0.22354369227297644 Validation loss is 0.12649388809294285\n",
            "For the epoch 182/275 Training loss is 0.22388418995517442 Validation loss is 0.1253669760187749\n",
            "For the epoch 183/275 Training loss is 0.23081165341940493 Validation loss is 0.11833565652229544\n",
            "For the epoch 184/275 Training loss is 0.21872404127117107 Validation loss is 0.13805426559267878\n",
            "For the epoch 185/275 Training loss is 0.22043965488104478 Validation loss is 0.14276693166006824\n",
            "For the epoch 186/275 Training loss is 0.22106153403499806 Validation loss is 0.19123960679868152\n",
            "For the epoch 187/275 Training loss is 0.22231452524009676 Validation loss is 0.16161894753187825\n",
            "For the epoch 188/275 Training loss is 0.23109502757566874 Validation loss is 0.13184702255483496\n",
            "For the epoch 189/275 Training loss is 0.22697037161242203 Validation loss is 0.1258792018214016\n",
            "For the epoch 190/275 Training loss is 0.22876253730138402 Validation loss is 0.11761013942971016\n",
            "For the epoch 191/275 Training loss is 0.21570625317739386 Validation loss is 0.1488505969374456\n",
            "For the epoch 192/275 Training loss is 0.21300044898615708 Validation loss is 0.14111564390484604\n",
            "For the epoch 193/275 Training loss is 0.22135650241814694 Validation loss is 0.13068556165582462\n",
            "For the epoch 194/275 Training loss is 0.22030143207222236 Validation loss is 0.13375284722510805\n",
            "For the epoch 195/275 Training loss is 0.22321035932518474 Validation loss is 0.14736070080570013\n",
            "For the epoch 196/275 Training loss is 0.22668967635514622 Validation loss is 0.11427222549492586\n",
            "For the epoch 197/275 Training loss is 0.22530274812538323 Validation loss is 0.12022253238281178\n",
            "For the epoch 198/275 Training loss is 0.22511133946626352 Validation loss is 0.17575361599031633\n",
            "For the epoch 199/275 Training loss is 0.2130987356682272 Validation loss is 0.158619926556346\n",
            "For the epoch 200/275 Training loss is 0.21949556070056384 Validation loss is 0.14400197529623696\n",
            "For the epoch 201/275 Training loss is 0.21281557069599846 Validation loss is 0.11855449699059165\n",
            "For the epoch 202/275 Training loss is 0.22386656461769044 Validation loss is 0.12040080635260184\n",
            "For the epoch 203/275 Training loss is 0.2152263424780188 Validation loss is 0.12237096898099209\n",
            "For the epoch 204/275 Training loss is 0.22390894972944628 Validation loss is 0.12593254501937975\n",
            "For the epoch 205/275 Training loss is 0.22465194697122995 Validation loss is 0.1290660197571378\n",
            "For the epoch 206/275 Training loss is 0.2206062898976048 Validation loss is 0.1273516808277608\n",
            "For the epoch 207/275 Training loss is 0.21931488875391805 Validation loss is 0.15893530180550072\n",
            "For the epoch 208/275 Training loss is 0.22521911814573278 Validation loss is 0.1261072037067819\n",
            "For the epoch 209/275 Training loss is 0.21255193560723598 Validation loss is 0.12566283577722862\n",
            "For the epoch 210/275 Training loss is 0.21997278520439528 Validation loss is 0.13377859936256498\n",
            "For the epoch 211/275 Training loss is 0.21790714924954963 Validation loss is 0.13544238667679734\n",
            "For the epoch 212/275 Training loss is 0.2344969353987033 Validation loss is 0.18811146722617725\n",
            "For the epoch 213/275 Training loss is 0.21544635677608248 Validation loss is 0.11517427497439914\n",
            "For the epoch 214/275 Training loss is 0.2078971940590681 Validation loss is 0.22902363242832482\n",
            "For the epoch 215/275 Training loss is 0.22811135000964142 Validation loss is 0.3022915161529613\n",
            "For the epoch 216/275 Training loss is 0.2167490574817789 Validation loss is 0.12069292908301027\n",
            "For the epoch 217/275 Training loss is 0.21169501236203137 Validation loss is 0.1545676040874869\n",
            "For the epoch 218/275 Training loss is 0.2150743559492132 Validation loss is 0.21621060923763483\n",
            "For the epoch 219/275 Training loss is 0.21466254124913953 Validation loss is 0.13645030860359786\n",
            "For the epoch 220/275 Training loss is 0.21549581080059024 Validation loss is 0.1254260177026122\n",
            "For the epoch 221/275 Training loss is 0.21382879297598972 Validation loss is 0.12275271336801227\n",
            "For the epoch 222/275 Training loss is 0.20940080711510098 Validation loss is 0.1110385080319488\n",
            "For the epoch 223/275 Training loss is 0.21272763154455462 Validation loss is 0.12706929453721283\n",
            "For the epoch 224/275 Training loss is 0.21551947164593507 Validation loss is 0.1318286852351881\n",
            "For the epoch 225/275 Training loss is 0.21639144169351665 Validation loss is 0.15669907215921028\n",
            "For the epoch 226/275 Training loss is 0.21153970478902134 Validation loss is 0.11593458038131678\n",
            "For the epoch 227/275 Training loss is 0.20776713454969797 Validation loss is 0.1246128315621234\n",
            "For the epoch 228/275 Training loss is 0.21225535492690217 Validation loss is 0.1381376915789665\n",
            "For the epoch 229/275 Training loss is 0.21560140737503417 Validation loss is 0.11644890793108208\n",
            "For the epoch 230/275 Training loss is 0.20905173564179494 Validation loss is 0.12810592707730917\n",
            "For the epoch 231/275 Training loss is 0.21599877900230677 Validation loss is 0.17806666568097776\n",
            "For the epoch 232/275 Training loss is 0.21866106349154915 Validation loss is 0.1169405521794132\n",
            "For the epoch 233/275 Training loss is 0.20895523845207173 Validation loss is 0.12758597245453096\n",
            "For the epoch 234/275 Training loss is 0.20931031199471883 Validation loss is 0.13205353221712945\n",
            "For the epoch 235/275 Training loss is 0.20417699975236786 Validation loss is 0.11702252031781712\n",
            "For the epoch 236/275 Training loss is 0.21074798240514722 Validation loss is 0.1266011315316455\n",
            "For the epoch 237/275 Training loss is 0.2163390227063832 Validation loss is 0.11908265822886294\n",
            "For the epoch 238/275 Training loss is 0.20734321341419878 Validation loss is 0.11895938618526955\n",
            "For the epoch 239/275 Training loss is 0.2027193819118696 Validation loss is 0.12071219719329906\n",
            "For the epoch 240/275 Training loss is 0.2154054542664434 Validation loss is 0.12276355549516971\n",
            "For the epoch 241/275 Training loss is 0.21515660093629896 Validation loss is 0.126007990577824\n",
            "For the epoch 242/275 Training loss is 0.21386961875099086 Validation loss is 0.15122253393168708\n",
            "For the epoch 243/275 Training loss is 0.2107019593563938 Validation loss is 0.12360192106125202\n",
            "For the epoch 244/275 Training loss is 0.20903114548664997 Validation loss is 0.11892858419576154\n",
            "For the epoch 245/275 Training loss is 0.20722561936944808 Validation loss is 0.1261533256963635\n",
            "For the epoch 246/275 Training loss is 0.2099875133917986 Validation loss is 0.11683751009316591\n",
            "For the epoch 247/275 Training loss is 0.2082498270246632 Validation loss is 0.12698271268930278\n",
            "For the epoch 248/275 Training loss is 0.2170294164209942 Validation loss is 0.13274278133473497\n",
            "For the epoch 249/275 Training loss is 0.2147606049755299 Validation loss is 0.11676169135046344\n",
            "For the epoch 250/275 Training loss is 0.21016827420179401 Validation loss is 0.11026808967545242\n",
            "For the epoch 251/275 Training loss is 0.21190263483753366 Validation loss is 0.1468197627552294\n",
            "For the epoch 252/275 Training loss is 0.20570196852202738 Validation loss is 0.11848665394117928\n",
            "For the epoch 253/275 Training loss is 0.21437084858457134 Validation loss is 0.14633096752437294\n",
            "For the epoch 254/275 Training loss is 0.2102610495682907 Validation loss is 0.11971651408689242\n",
            "For the epoch 255/275 Training loss is 0.21518934328738717 Validation loss is 0.12421258076426549\n",
            "For the epoch 256/275 Training loss is 0.20722105085583994 Validation loss is 0.11895128914086812\n",
            "For the epoch 257/275 Training loss is 0.20569700995678356 Validation loss is 0.1158834154160592\n",
            "For the epoch 258/275 Training loss is 0.2220531818979802 Validation loss is 0.1164286022772462\n",
            "For the epoch 259/275 Training loss is 0.21145078615954785 Validation loss is 0.12226543826696157\n",
            "For the epoch 260/275 Training loss is 0.20896503139614914 Validation loss is 0.12730591167513078\n",
            "For the epoch 261/275 Training loss is 0.21818629995646824 Validation loss is 0.13151347755540346\n",
            "For the epoch 262/275 Training loss is 0.2071202373427324 Validation loss is 0.16988202110813583\n",
            "For the epoch 263/275 Training loss is 0.20411510630856172 Validation loss is 0.13645995001420907\n",
            "For the epoch 264/275 Training loss is 0.2234585750040179 Validation loss is 0.12928632196241518\n",
            "For the epoch 265/275 Training loss is 0.20653482337784662 Validation loss is 0.13419075891481225\n",
            "For the epoch 266/275 Training loss is 0.20094092471134725 Validation loss is 0.12375371489964479\n",
            "For the epoch 267/275 Training loss is 0.20136652004395025 Validation loss is 0.12443544244653508\n",
            "For the epoch 268/275 Training loss is 0.20272964748912944 Validation loss is 0.130255108353094\n",
            "For the epoch 269/275 Training loss is 0.20739572339083048 Validation loss is 0.19845283273827663\n",
            "For the epoch 270/275 Training loss is 0.21269374005843814 Validation loss is 0.19615843797688226\n",
            "For the epoch 271/275 Training loss is 0.20893513373532274 Validation loss is 0.12838847693540245\n",
            "For the epoch 272/275 Training loss is 0.19912557535244957 Validation loss is 0.16664504801973384\n",
            "For the epoch 273/275 Training loss is 0.20136991308727967 Validation loss is 0.1915002263747772\n",
            "For the epoch 274/275 Training loss is 0.20533348753426206 Validation loss is 0.11781522979691238\n",
            "For the epoch 275/275 Training loss is 0.20780476240383067 Validation loss is 0.1373492589233615\n"
          ],
          "name": "stdout"
        }
      ]
    },
    {
      "cell_type": "code",
      "metadata": {
        "id": "QYEUC_1MAfgA",
        "colab_type": "code",
        "outputId": "f7417182-c4e3-43bc-9014-6a314c736136",
        "colab": {
          "base_uri": "https://localhost:8080/",
          "height": 281
        }
      },
      "source": [
        "\n",
        "plt.plot(train_loss_list, label = 'Train Loss')\n",
        "plt.plot(validation_loss_list, label = 'Validation Loss')\n",
        "plt.title(\"Train Loss vs Validation Loss\")\n",
        "plt.legend(loc=\"upper right\")\n",
        "plt.show()"
      ],
      "execution_count": 0,
      "outputs": [
        {
          "output_type": "display_data",
          "data": {
            "image/png": "[encoded data removed]",
            "text/plain": [
              "<Figure size 432x288 with 1 Axes>"
            ]
          },
          "metadata": {
            "tags": []
          }
        }
      ]
    },
    {
      "cell_type": "code",
      "metadata": {
        "id": "H9dJnPNb0EjR",
        "colab_type": "code",
        "outputId": "36e88293-5a17-4d8f-e41c-28d6617eab8f",
        "colab": {
          "base_uri": "https://localhost:8080/",
          "height": 284
        }
      },
      "source": [
        "torch.manual_seed(25)\n",
        "model.load_state_dict(torch.load('facelandmarks.pth'))\n",
        "model.eval()\n",
        "iterator = iter(validation_loader)\n",
        "images, landmarks = iterator.next()\n",
        "landmarksGenerated = model(images.float().to('cuda'))\n",
        "idx = np.random.randint(0,31)\n",
        "image, landmarkForImageOriginal, landmarkForImageGenerated = images[idx]*0.5 + 0.5, landmarks[idx], landmarksGenerated[idx]\n",
        "\n",
        "plt.figure(figsize=(8,8))\n",
        "ax1 = plt.subplot(1,2,1)\n",
        "ax1.imshow(np.squeeze(image.cpu().numpy()), cmap = 'gray')\n",
        "ax1.scatter(landmarkForImageOriginal.cpu().numpy()[0::2], landmarkForImageOriginal.cpu().numpy()[1::2])\n",
        "ax1.set_title(\"Actual!\")\n",
        "\n",
        "\n",
        "ax2 = plt.subplot(1,2,2)\n",
        "ax2.imshow(np.squeeze(image.cpu().numpy()), cmap = 'gray')\n",
        "ax2.scatter(landmarkForImageGenerated.cpu().detach().numpy()[0::2], landmarkForImageGenerated.cpu().detach().numpy()[1::2])\n",
        "ax2.set_title(\"Generated!\")\n",
        "\n",
        " \n"
      ],
      "execution_count": 0,
      "outputs": [
        {
          "output_type": "execute_result",
          "data": {
            "text/plain": [
              "Text(0.5, 1.0, 'Generated!')"
            ]
          },
          "metadata": {
            "tags": []
          },
          "execution_count": 41
        },
        {
          "output_type": "display_data",
          "data": {
            "image/png": "[encoded data removed]",
            "text/plain": [
              "<Figure size 576x576 with 2 Axes>"
            ]
          },
          "metadata": {
            "tags": []
          }
        }
      ]
    },
    {
      "cell_type": "code",
      "metadata": {
        "id": "Zq--nQ3kysOY",
        "colab_type": "code",
        "colab": {}
      },
      "source": [
        ""
      ],
      "execution_count": 0,
      "outputs": []
    }
  ]
}